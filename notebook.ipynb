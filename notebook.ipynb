{
 "cells": [
  {
   "cell_type": "code",
   "execution_count": 17,
   "metadata": {},
   "outputs": [],
   "source": [
    "import pandas as pd\n",
    "import seaborn as sb\n",
    "import matplotlib.pyplot as plt\n",
    "import gpytorch\n",
    "import os\n",
    "import GPy\n",
    "from bayes_opt import BayesianOptimization\n",
    "import torch\n",
    "import GPyOpt\n",
    "# from GPyOpt.methods import BayesianOptimization\n",
    "import numpy as np\n",
    "# import plotly\n",
    "import matplotlib.mlab as mlab\n",
    "import sklearn as sk\n",
    "from matplotlib import gridspec"
   ]
  },
  {
   "cell_type": "code",
   "execution_count": 2,
   "metadata": {},
   "outputs": [],
   "source": [
    "class ExactGPModel(gpytorch.models.ExactGP):\n",
    "    def __init__(self, train_x, train_y, likelihood):\n",
    "        super(ExactGPModel, self).__init__(train_x, train_y, likelihood)\n",
    "        self.mean_module = gpytorch.means.ConstantMean()\n",
    "        self.covar_module = gpytorch.kernels.ScaleKernel(gpytorch.kernels.RBFKernel() + gpytorch.kernels.LinearKernel())\n",
    "\n",
    "    def forward(self, x):\n",
    "        mean_x = self.mean_module(x)\n",
    "        covar_x = self.covar_module(x)\n",
    "        return gpytorch.distributions.MultivariateNormal(mean_x, covar_x)\n"
   ]
  },
  {
   "cell_type": "code",
   "execution_count": 3,
   "metadata": {},
   "outputs": [
    {
     "name": "stdout",
     "output_type": "stream",
     "text": [
      "<class 'pandas.core.frame.DataFrame'>\n",
      "RangeIndex: 23 entries, 0 to 22\n",
      "Data columns (total 8 columns):\n",
      " #   Column   Non-Null Count  Dtype  \n",
      "---  ------   --------------  -----  \n",
      " 0   ol       23 non-null     float64\n",
      " 1   al       23 non-null     float64\n",
      " 2   bf       23 non-null     float64\n",
      " 3   temp     23 non-null     float64\n",
      " 4   thc      23 non-null     object \n",
      " 5   cbd      23 non-null     object \n",
      " 6   abn_cbd  23 non-null     object \n",
      " 7   bis      23 non-null     object \n",
      "dtypes: float64(4), object(4)\n",
      "memory usage: 1.6+ KB\n",
      "None\n",
      "      ol     al    bf  temp   thc   cbd  abn_cbd   bis   fit\n",
      "0  2.050  1.000  0.11  75.0  0.07  0.38     0.23  0.02 -0.80\n",
      "1  2.050  1.000  0.11  75.0  0.09  0.38     0.23  0.02 -1.00\n",
      "2  2.050  1.000  0.11  75.0  0.07  0.39     0.27  0.03 -0.88\n",
      "3  3.000  1.000  0.11  75.0  0.07  0.40     0.24  0.04 -0.82\n",
      "4  2.525  1.433  0.11  75.0  0.00  0.44     0.33  0.03 -0.25\n"
     ]
    },
    {
     "data": {
      "text/html": [
       "<div>\n",
       "<style scoped>\n",
       "    .dataframe tbody tr th:only-of-type {\n",
       "        vertical-align: middle;\n",
       "    }\n",
       "\n",
       "    .dataframe tbody tr th {\n",
       "        vertical-align: top;\n",
       "    }\n",
       "\n",
       "    .dataframe thead th {\n",
       "        text-align: right;\n",
       "    }\n",
       "</style>\n",
       "<table border=\"1\" class=\"dataframe\">\n",
       "  <thead>\n",
       "    <tr style=\"text-align: right;\">\n",
       "      <th></th>\n",
       "      <th>ol</th>\n",
       "      <th>al</th>\n",
       "      <th>bf</th>\n",
       "      <th>temp</th>\n",
       "      <th>thc</th>\n",
       "      <th>cbd</th>\n",
       "      <th>abn_cbd</th>\n",
       "      <th>bis</th>\n",
       "      <th>fit</th>\n",
       "    </tr>\n",
       "  </thead>\n",
       "  <tbody>\n",
       "    <tr>\n",
       "      <th>count</th>\n",
       "      <td>23.000000</td>\n",
       "      <td>23.000000</td>\n",
       "      <td>23.00000</td>\n",
       "      <td>23.000000</td>\n",
       "      <td>23.000000</td>\n",
       "      <td>23.000000</td>\n",
       "      <td>23.000000</td>\n",
       "      <td>23.000000</td>\n",
       "      <td>23.000000</td>\n",
       "    </tr>\n",
       "    <tr>\n",
       "      <th>mean</th>\n",
       "      <td>2.050000</td>\n",
       "      <td>1.000000</td>\n",
       "      <td>0.11000</td>\n",
       "      <td>75.000000</td>\n",
       "      <td>0.105217</td>\n",
       "      <td>0.302174</td>\n",
       "      <td>0.239565</td>\n",
       "      <td>0.027826</td>\n",
       "      <td>-1.256957</td>\n",
       "    </tr>\n",
       "    <tr>\n",
       "      <th>std</th>\n",
       "      <td>0.452895</td>\n",
       "      <td>0.238359</td>\n",
       "      <td>0.04288</td>\n",
       "      <td>7.154864</td>\n",
       "      <td>0.134227</td>\n",
       "      <td>0.098302</td>\n",
       "      <td>0.114712</td>\n",
       "      <td>0.032746</td>\n",
       "      <td>1.182095</td>\n",
       "    </tr>\n",
       "    <tr>\n",
       "      <th>min</th>\n",
       "      <td>1.100000</td>\n",
       "      <td>0.567000</td>\n",
       "      <td>0.03656</td>\n",
       "      <td>63.135000</td>\n",
       "      <td>0.000000</td>\n",
       "      <td>0.130000</td>\n",
       "      <td>0.060000</td>\n",
       "      <td>0.000000</td>\n",
       "      <td>-4.330000</td>\n",
       "    </tr>\n",
       "    <tr>\n",
       "      <th>25%</th>\n",
       "      <td>1.575000</td>\n",
       "      <td>0.855500</td>\n",
       "      <td>0.09164</td>\n",
       "      <td>75.000000</td>\n",
       "      <td>0.000000</td>\n",
       "      <td>0.230000</td>\n",
       "      <td>0.135000</td>\n",
       "      <td>0.010000</td>\n",
       "      <td>-1.735000</td>\n",
       "    </tr>\n",
       "    <tr>\n",
       "      <th>50%</th>\n",
       "      <td>2.050000</td>\n",
       "      <td>1.000000</td>\n",
       "      <td>0.11000</td>\n",
       "      <td>75.000000</td>\n",
       "      <td>0.070000</td>\n",
       "      <td>0.300000</td>\n",
       "      <td>0.240000</td>\n",
       "      <td>0.020000</td>\n",
       "      <td>-0.800000</td>\n",
       "    </tr>\n",
       "    <tr>\n",
       "      <th>75%</th>\n",
       "      <td>2.525000</td>\n",
       "      <td>1.144500</td>\n",
       "      <td>0.12836</td>\n",
       "      <td>75.000000</td>\n",
       "      <td>0.160000</td>\n",
       "      <td>0.385000</td>\n",
       "      <td>0.325000</td>\n",
       "      <td>0.035000</td>\n",
       "      <td>-0.550000</td>\n",
       "    </tr>\n",
       "    <tr>\n",
       "      <th>max</th>\n",
       "      <td>3.000000</td>\n",
       "      <td>1.433000</td>\n",
       "      <td>0.18344</td>\n",
       "      <td>86.865000</td>\n",
       "      <td>0.440000</td>\n",
       "      <td>0.440000</td>\n",
       "      <td>0.440000</td>\n",
       "      <td>0.150000</td>\n",
       "      <td>-0.250000</td>\n",
       "    </tr>\n",
       "  </tbody>\n",
       "</table>\n",
       "</div>"
      ],
      "text/plain": [
       "              ol         al        bf       temp        thc        cbd  \\\n",
       "count  23.000000  23.000000  23.00000  23.000000  23.000000  23.000000   \n",
       "mean    2.050000   1.000000   0.11000  75.000000   0.105217   0.302174   \n",
       "std     0.452895   0.238359   0.04288   7.154864   0.134227   0.098302   \n",
       "min     1.100000   0.567000   0.03656  63.135000   0.000000   0.130000   \n",
       "25%     1.575000   0.855500   0.09164  75.000000   0.000000   0.230000   \n",
       "50%     2.050000   1.000000   0.11000  75.000000   0.070000   0.300000   \n",
       "75%     2.525000   1.144500   0.12836  75.000000   0.160000   0.385000   \n",
       "max     3.000000   1.433000   0.18344  86.865000   0.440000   0.440000   \n",
       "\n",
       "         abn_cbd        bis        fit  \n",
       "count  23.000000  23.000000  23.000000  \n",
       "mean    0.239565   0.027826  -1.256957  \n",
       "std     0.114712   0.032746   1.182095  \n",
       "min     0.060000   0.000000  -4.330000  \n",
       "25%     0.135000   0.010000  -1.735000  \n",
       "50%     0.240000   0.020000  -0.800000  \n",
       "75%     0.325000   0.035000  -0.550000  \n",
       "max     0.440000   0.150000  -0.250000  "
      ]
     },
     "execution_count": 3,
     "metadata": {},
     "output_type": "execute_result"
    }
   ],
   "source": [
    "data = pd.read_excel(\"DOE_Complete.xlsx\", sheet_name=1)\n",
    "print(data.info())\n",
    "data['thc'] = data['thc'].str.rstrip('%').astype(\"float\")/100\n",
    "data['cbd'] = data['cbd'].str.rstrip('%').astype(\"float\")/100\n",
    "data['abn_cbd'] = data['abn_cbd'].str.rstrip('%').astype(\"float\")/100\n",
    "data['bis'] = data['bis'].str.rstrip('%').astype(\"float\")/100\n",
    "# data[\"fit\"] = 1 - (data.thc * 100 + (1 - data.cbd) + data.abn_cbd + data.bis\n",
    "data[\"fit\"] = data[\"cbd\"] - data.thc*10 - data.abn_cbd*2 - data.bis\n",
    "print(data.head())\n",
    "data.describe()\n",
    "    \n"
   ]
  },
  {
   "cell_type": "code",
   "execution_count": 4,
   "metadata": {},
   "outputs": [
    {
     "name": "stdout",
     "output_type": "stream",
     "text": [
      "<class 'numpy.ndarray'> (23, 4) [ 2.05  1.    0.11 75.  ] <class 'numpy.ndarray'> (4,)\n"
     ]
    }
   ],
   "source": [
    "# corr = data.corr()\n",
    "# sb.heatmap(corr)\n",
    "# plt.show()\n",
    "x = data.iloc[:,:4].copy().values\n",
    "print(type(x), x.shape, x[0], type(x[0]), x[0].shape)\n",
    "y = data[\"fit\"].copy().values.reshape(-1,1)\n",
    "xt = torch.tensor(x)\n",
    "yt = torch.tensor(y)\n",
    "# initialize likelihood and model\n",
    "# print(y, y.shape)\n",
    "\n"
   ]
  },
  {
   "cell_type": "code",
   "execution_count": 5,
   "metadata": {},
   "outputs": [],
   "source": [
    "data2 = pd.read_excel(\"DOE_Complete.xlsx\", sheet_name=2)\n",
    "x=data2.values"
   ]
  },
  {
   "cell_type": "code",
   "execution_count": 6,
   "metadata": {},
   "outputs": [],
   "source": [
    "def bbox(ol, al, bf, temp):\n",
    "    data = np.array([ol,al,bf,temp]).reshape(-1, 4)\n",
    "    # print(data)\n",
    "    predict = gpr.predict(data)\n",
    "    # print(predict, type(predict), predict.shape)\n",
    "\n",
    "    return predict[0][0]"
   ]
  },
  {
   "cell_type": "code",
   "execution_count": 7,
   "metadata": {},
   "outputs": [
    {
     "name": "stdout",
     "output_type": "stream",
     "text": [
      "[[-0.62075848  0.96342968 -1.53367868 -0.09650866]] 0.5994390106870718\n"
     ]
    }
   ],
   "source": [
    "from sklearn import linear_model\n",
    "reg = linear_model.Ridge(alpha=.01)\n",
    "reg.fit(x,y)\n",
    "print(reg.coef_, reg.score(x,y))\n"
   ]
  },
  {
   "cell_type": "code",
   "execution_count": null,
   "metadata": {},
   "outputs": [],
   "source": []
  },
  {
   "cell_type": "code",
   "execution_count": 8,
   "metadata": {},
   "outputs": [],
   "source": [
    "from sklearn.gaussian_process.kernels import RBF, WhiteKernel\n",
    "from sklearn.gaussian_process import GaussianProcessRegressor"
   ]
  },
  {
   "cell_type": "code",
   "execution_count": 9,
   "metadata": {},
   "outputs": [],
   "source": [
    "kern = RBF([1,1,1,1]) + WhiteKernel()\n",
    "gpr = GaussianProcessRegressor(kernel=kern, random_state=0).fit(x, y)"
   ]
  },
  {
   "cell_type": "code",
   "execution_count": 10,
   "metadata": {},
   "outputs": [
    {
     "data": {
      "text/plain": [
       "0.8575264605869649"
      ]
     },
     "execution_count": 10,
     "metadata": {},
     "output_type": "execute_result"
    }
   ],
   "source": [
    "gpr.score(x,y)"
   ]
  },
  {
   "cell_type": "code",
   "execution_count": 11,
   "metadata": {},
   "outputs": [
    {
     "data": {
      "text/html": [
       "<div>\n",
       "<style scoped>\n",
       "    .dataframe tbody tr th:only-of-type {\n",
       "        vertical-align: middle;\n",
       "    }\n",
       "\n",
       "    .dataframe tbody tr th {\n",
       "        vertical-align: top;\n",
       "    }\n",
       "\n",
       "    .dataframe thead th {\n",
       "        text-align: right;\n",
       "    }\n",
       "</style>\n",
       "<table border=\"1\" class=\"dataframe\">\n",
       "  <thead>\n",
       "    <tr style=\"text-align: right;\">\n",
       "      <th></th>\n",
       "      <th>ol</th>\n",
       "      <th>al</th>\n",
       "      <th>bf</th>\n",
       "      <th>temp</th>\n",
       "    </tr>\n",
       "  </thead>\n",
       "  <tbody>\n",
       "    <tr>\n",
       "      <th>count</th>\n",
       "      <td>23.000000</td>\n",
       "      <td>23.000000</td>\n",
       "      <td>2.300000e+01</td>\n",
       "      <td>2.300000e+01</td>\n",
       "    </tr>\n",
       "    <tr>\n",
       "      <th>mean</th>\n",
       "      <td>0.000000</td>\n",
       "      <td>0.000000</td>\n",
       "      <td>-1.448117e-17</td>\n",
       "      <td>-9.654113e-18</td>\n",
       "    </tr>\n",
       "    <tr>\n",
       "      <th>std</th>\n",
       "      <td>0.476731</td>\n",
       "      <td>0.476717</td>\n",
       "      <td>4.764414e-01</td>\n",
       "      <td>4.769909e-01</td>\n",
       "    </tr>\n",
       "    <tr>\n",
       "      <th>min</th>\n",
       "      <td>-1.000000</td>\n",
       "      <td>-0.866000</td>\n",
       "      <td>-8.160000e-01</td>\n",
       "      <td>-7.910000e-01</td>\n",
       "    </tr>\n",
       "    <tr>\n",
       "      <th>25%</th>\n",
       "      <td>-0.500000</td>\n",
       "      <td>-0.289000</td>\n",
       "      <td>-2.040000e-01</td>\n",
       "      <td>0.000000e+00</td>\n",
       "    </tr>\n",
       "    <tr>\n",
       "      <th>50%</th>\n",
       "      <td>0.000000</td>\n",
       "      <td>0.000000</td>\n",
       "      <td>0.000000e+00</td>\n",
       "      <td>0.000000e+00</td>\n",
       "    </tr>\n",
       "    <tr>\n",
       "      <th>75%</th>\n",
       "      <td>0.500000</td>\n",
       "      <td>0.289000</td>\n",
       "      <td>2.040000e-01</td>\n",
       "      <td>0.000000e+00</td>\n",
       "    </tr>\n",
       "    <tr>\n",
       "      <th>max</th>\n",
       "      <td>1.000000</td>\n",
       "      <td>0.866000</td>\n",
       "      <td>8.160000e-01</td>\n",
       "      <td>7.910000e-01</td>\n",
       "    </tr>\n",
       "  </tbody>\n",
       "</table>\n",
       "</div>"
      ],
      "text/plain": [
       "              ol         al            bf          temp\n",
       "count  23.000000  23.000000  2.300000e+01  2.300000e+01\n",
       "mean    0.000000   0.000000 -1.448117e-17 -9.654113e-18\n",
       "std     0.476731   0.476717  4.764414e-01  4.769909e-01\n",
       "min    -1.000000  -0.866000 -8.160000e-01 -7.910000e-01\n",
       "25%    -0.500000  -0.289000 -2.040000e-01  0.000000e+00\n",
       "50%     0.000000   0.000000  0.000000e+00  0.000000e+00\n",
       "75%     0.500000   0.289000  2.040000e-01  0.000000e+00\n",
       "max     1.000000   0.866000  8.160000e-01  7.910000e-01"
      ]
     },
     "execution_count": 11,
     "metadata": {},
     "output_type": "execute_result"
    }
   ],
   "source": [
    "data2.describe()"
   ]
  },
  {
   "cell_type": "code",
   "execution_count": 12,
   "metadata": {},
   "outputs": [
    {
     "name": "stdout",
     "output_type": "stream",
     "text": [
      "|   iter    |  target   |    al     |    bf     |    ol     |   temp    |\n",
      "-------------------------------------------------------------------------\n",
      "| \u001b[0m 1       \u001b[0m | \u001b[0m-0.8642  \u001b[0m | \u001b[0m-0.1427  \u001b[0m | \u001b[0m 0.3596  \u001b[0m | \u001b[0m-0.9998  \u001b[0m | \u001b[0m-0.3163  \u001b[0m |\n",
      "| \u001b[95m 2       \u001b[0m | \u001b[95m-0.5134  \u001b[0m | \u001b[95m-0.6076  \u001b[0m | \u001b[95m-0.6653  \u001b[0m | \u001b[95m-0.6275  \u001b[0m | \u001b[95m-0.2471  \u001b[0m |\n",
      "| \u001b[0m 3       \u001b[0m | \u001b[0m-1.169   \u001b[0m | \u001b[0m-0.1776  \u001b[0m | \u001b[0m 0.06335 \u001b[0m | \u001b[0m-0.1616  \u001b[0m | \u001b[0m 0.2964  \u001b[0m |\n",
      "| \u001b[0m 4       \u001b[0m | \u001b[0m-1.445   \u001b[0m | \u001b[0m-0.5083  \u001b[0m | \u001b[0m 0.6171  \u001b[0m | \u001b[0m-0.9452  \u001b[0m | \u001b[0m 0.2727  \u001b[0m |\n",
      "| \u001b[0m 5       \u001b[0m | \u001b[0m-0.6692  \u001b[0m | \u001b[0m-0.1422  \u001b[0m | \u001b[0m 0.09578 \u001b[0m | \u001b[0m-0.7192  \u001b[0m | \u001b[0m-0.483   \u001b[0m |\n",
      "| \u001b[95m 6       \u001b[0m | \u001b[95m-0.3337  \u001b[0m | \u001b[95m-0.1636  \u001b[0m | \u001b[95m-0.8082  \u001b[0m | \u001b[95m-1.0     \u001b[0m | \u001b[95m-0.8     \u001b[0m |\n",
      "| \u001b[0m 7       \u001b[0m | \u001b[0m-0.5095  \u001b[0m | \u001b[0m 0.86    \u001b[0m | \u001b[0m-0.816   \u001b[0m | \u001b[0m-0.3211  \u001b[0m | \u001b[0m-0.8     \u001b[0m |\n",
      "| \u001b[0m 8       \u001b[0m | \u001b[0m-0.8071  \u001b[0m | \u001b[0m-0.86    \u001b[0m | \u001b[0m-0.816   \u001b[0m | \u001b[0m 0.856   \u001b[0m | \u001b[0m-0.8     \u001b[0m |\n",
      "| \u001b[0m 9       \u001b[0m | \u001b[0m-0.4455  \u001b[0m | \u001b[0m 0.86    \u001b[0m | \u001b[0m-0.816   \u001b[0m | \u001b[0m-1.0     \u001b[0m | \u001b[0m 0.02419 \u001b[0m |\n",
      "| \u001b[95m 10      \u001b[0m | \u001b[95m-0.2223  \u001b[0m | \u001b[95m 0.86    \u001b[0m | \u001b[95m-0.02808 \u001b[0m | \u001b[95m-1.0     \u001b[0m | \u001b[95m-0.8     \u001b[0m |\n",
      "| \u001b[0m 11      \u001b[0m | \u001b[0m-2.219   \u001b[0m | \u001b[0m 0.86    \u001b[0m | \u001b[0m 0.816   \u001b[0m | \u001b[0m 1.0     \u001b[0m | \u001b[0m-0.8     \u001b[0m |\n",
      "| \u001b[0m 12      \u001b[0m | \u001b[0m-0.4455  \u001b[0m | \u001b[0m 0.86    \u001b[0m | \u001b[0m-0.816   \u001b[0m | \u001b[0m-1.0     \u001b[0m | \u001b[0m-0.8     \u001b[0m |\n",
      "| \u001b[0m 13      \u001b[0m | \u001b[0m-0.7826  \u001b[0m | \u001b[0m-0.86    \u001b[0m | \u001b[0m-0.816   \u001b[0m | \u001b[0m 1.0     \u001b[0m | \u001b[0m 0.8     \u001b[0m |\n",
      "| \u001b[0m 14      \u001b[0m | \u001b[0m-0.4437  \u001b[0m | \u001b[0m 0.86    \u001b[0m | \u001b[0m-0.816   \u001b[0m | \u001b[0m 0.2892  \u001b[0m | \u001b[0m 0.8     \u001b[0m |\n",
      "| \u001b[0m 15      \u001b[0m | \u001b[0m-0.3678  \u001b[0m | \u001b[0m 0.08706 \u001b[0m | \u001b[0m-0.816   \u001b[0m | \u001b[0m-1.0     \u001b[0m | \u001b[0m 0.8     \u001b[0m |\n",
      "| \u001b[0m 16      \u001b[0m | \u001b[0m-0.2299  \u001b[0m | \u001b[0m 0.86    \u001b[0m | \u001b[0m-0.1863  \u001b[0m | \u001b[0m-1.0     \u001b[0m | \u001b[0m 0.8     \u001b[0m |\n",
      "| \u001b[0m 17      \u001b[0m | \u001b[0m-0.4911  \u001b[0m | \u001b[0m 0.86    \u001b[0m | \u001b[0m-0.816   \u001b[0m | \u001b[0m-0.6883  \u001b[0m | \u001b[0m 0.8     \u001b[0m |\n",
      "| \u001b[0m 18      \u001b[0m | \u001b[0m-1.211   \u001b[0m | \u001b[0m 0.86    \u001b[0m | \u001b[0m 0.816   \u001b[0m | \u001b[0m-1.0     \u001b[0m | \u001b[0m 0.8     \u001b[0m |\n",
      "| \u001b[0m 19      \u001b[0m | \u001b[0m-0.2936  \u001b[0m | \u001b[0m-0.86    \u001b[0m | \u001b[0m-0.816   \u001b[0m | \u001b[0m-1.0     \u001b[0m | \u001b[0m 0.8     \u001b[0m |\n",
      "| \u001b[0m 20      \u001b[0m | \u001b[0m-0.2936  \u001b[0m | \u001b[0m-0.86    \u001b[0m | \u001b[0m-0.816   \u001b[0m | \u001b[0m-1.0     \u001b[0m | \u001b[0m-0.8     \u001b[0m |\n",
      "| \u001b[0m 21      \u001b[0m | \u001b[0m-0.2636  \u001b[0m | \u001b[0m 0.86    \u001b[0m | \u001b[0m-0.816   \u001b[0m | \u001b[0m 1.0     \u001b[0m | \u001b[0m 0.8     \u001b[0m |\n",
      "| \u001b[0m 22      \u001b[0m | \u001b[0m-0.2636  \u001b[0m | \u001b[0m 0.86    \u001b[0m | \u001b[0m-0.816   \u001b[0m | \u001b[0m 1.0     \u001b[0m | \u001b[0m-0.0247  \u001b[0m |\n",
      "| \u001b[0m 23      \u001b[0m | \u001b[0m-0.3483  \u001b[0m | \u001b[0m 0.2635  \u001b[0m | \u001b[0m-0.816   \u001b[0m | \u001b[0m 1.0     \u001b[0m | \u001b[0m 0.349   \u001b[0m |\n",
      "| \u001b[95m 24      \u001b[0m | \u001b[95m-0.1989  \u001b[0m | \u001b[95m 0.677   \u001b[0m | \u001b[95m-0.2797  \u001b[0m | \u001b[95m-0.9669  \u001b[0m | \u001b[95m-0.2173  \u001b[0m |\n",
      "| \u001b[95m 25      \u001b[0m | \u001b[95m-0.09528 \u001b[0m | \u001b[95m 0.3469  \u001b[0m | \u001b[95m-0.2443  \u001b[0m | \u001b[95m-1.0     \u001b[0m | \u001b[95m-0.8     \u001b[0m |\n",
      "| \u001b[0m 26      \u001b[0m | \u001b[0m-0.2871  \u001b[0m | \u001b[0m 0.594   \u001b[0m | \u001b[0m-0.816   \u001b[0m | \u001b[0m 1.0     \u001b[0m | \u001b[0m-0.8     \u001b[0m |\n",
      "| \u001b[0m 27      \u001b[0m | \u001b[0m-0.195   \u001b[0m | \u001b[0m 0.2146  \u001b[0m | \u001b[0m-0.4661  \u001b[0m | \u001b[0m-1.0     \u001b[0m | \u001b[0m-0.3328  \u001b[0m |\n",
      "| \u001b[0m 28      \u001b[0m | \u001b[0m-0.6501  \u001b[0m | \u001b[0m-0.86    \u001b[0m | \u001b[0m-0.1845  \u001b[0m | \u001b[0m-1.0     \u001b[0m | \u001b[0m-0.8     \u001b[0m |\n",
      "| \u001b[0m 29      \u001b[0m | \u001b[0m-0.5259  \u001b[0m | \u001b[0m 0.1434  \u001b[0m | \u001b[0m-0.816   \u001b[0m | \u001b[0m 0.2684  \u001b[0m | \u001b[0m-0.8     \u001b[0m |\n",
      "| \u001b[0m 30      \u001b[0m | \u001b[0m-0.1645  \u001b[0m | \u001b[0m 0.5432  \u001b[0m | \u001b[0m-0.304   \u001b[0m | \u001b[0m-1.0     \u001b[0m | \u001b[0m-0.6209  \u001b[0m |\n",
      "=========================================================================\n",
      "{'target': -0.09528157766237477, 'params': {'al': 0.346883397063798, 'bf': -0.24429051171680127, 'ol': -1.0, 'temp': -0.8}}\n"
     ]
    }
   ],
   "source": [
    "pbounds = {'ol': (-1, 1), 'al': (-.86, .86), \"bf\": (-.816, .816), \"temp\": (-.8, .8)}\n",
    "# print(bbox(0.917022004702574, 0.14084542908190212, 1.1002173121529553, 70.25598174316416))\n",
    "optimizer = BayesianOptimization(\n",
    "    f=bbox,\n",
    "    pbounds=pbounds,\n",
    "        verbose=2,  # verbose = 1 prints only when a maximum is observed, verbose = 0 is silent\n",
    "        random_state=1\n",
    "    )\n",
    "optimizer.maximize()\n",
    "print(optimizer.max)"
   ]
  },
  {
   "cell_type": "markdown",
   "metadata": {},
   "source": []
  },
  {
   "cell_type": "code",
   "execution_count": 13,
   "metadata": {},
   "outputs": [],
   "source": [
    "# GPy.plotting.change_plotting_library('plotly')"
   ]
  },
  {
   "cell_type": "code",
   "execution_count": 14,
   "metadata": {},
   "outputs": [
    {
     "data": {
      "text/html": [
       "<style type=\"text/css\">\n",
       ".pd{\n",
       "    font-family: \"Courier New\", Courier, monospace !important;\n",
       "    width: 100%;\n",
       "    padding: 3px;\n",
       "}\n",
       "</style>\n",
       "\n",
       "<p class=pd>\n",
       "<b>Model</b>: GP regression<br>\n",
       "<b>Objective</b>: 39.461600460099966<br>\n",
       "<b>Number of Parameters</b>: 5<br>\n",
       "<b>Number of Optimization Parameters</b>: 5<br>\n",
       "<b>Updates</b>: True<br>\n",
       "</p>\n",
       "<style type=\"text/css\">\n",
       ".tg  {font-family:\"Courier New\", Courier, monospace !important;padding:2px 3px;word-break:normal;border-collapse:collapse;border-spacing:0;border-color:#DCDCDC;margin:0px auto;width:100%;}\n",
       ".tg td{font-family:\"Courier New\", Courier, monospace !important;font-weight:bold;color:#444;background-color:#F7FDFA;border-style:solid;border-width:1px;overflow:hidden;word-break:normal;border-color:#DCDCDC;}\n",
       ".tg th{font-family:\"Courier New\", Courier, monospace !important;font-weight:normal;color:#fff;background-color:#26ADE4;border-style:solid;border-width:1px;overflow:hidden;word-break:normal;border-color:#DCDCDC;}\n",
       ".tg .tg-left{font-family:\"Courier New\", Courier, monospace !important;font-weight:normal;text-align:left;}\n",
       ".tg .tg-center{font-family:\"Courier New\", Courier, monospace !important;font-weight:normal;text-align:center;}\n",
       ".tg .tg-right{font-family:\"Courier New\", Courier, monospace !important;font-weight:normal;text-align:right;}\n",
       "</style>\n",
       "<table class=\"tg\"><tr><th><b>  GP_regression.         </b></th><th><b>value</b></th><th><b>constraints</b></th><th><b>priors</b></th></tr>\n",
       "<tr><td class=tg-left>  sum.rbf.variance       </td><td class=tg-right>  1.0</td><td class=tg-center>    +ve    </td><td class=tg-center>      </td></tr>\n",
       "<tr><td class=tg-left>  sum.rbf.lengthscale    </td><td class=tg-right>  1.0</td><td class=tg-center>    +ve    </td><td class=tg-center>      </td></tr>\n",
       "<tr><td class=tg-left>  sum.white.variance     </td><td class=tg-right>  1.0</td><td class=tg-center>    +ve    </td><td class=tg-center>      </td></tr>\n",
       "<tr><td class=tg-left>  sum.linear.variances   </td><td class=tg-right>  1.0</td><td class=tg-center>    +ve    </td><td class=tg-center>      </td></tr>\n",
       "<tr><td class=tg-left>  Gaussian_noise.variance</td><td class=tg-right>  1.0</td><td class=tg-center>    +ve    </td><td class=tg-center>      </td></tr>\n",
       "</table>"
      ],
      "text/plain": [
       "<GPy.models.gp_regression.GPRegression at 0x1bed608b588>"
      ]
     },
     "metadata": {},
     "output_type": "display_data"
    },
    {
     "data": {
      "text/html": [
       "<style type=\"text/css\">\n",
       ".pd{\n",
       "    font-family: \"Courier New\", Courier, monospace !important;\n",
       "    width: 100%;\n",
       "    padding: 3px;\n",
       "}\n",
       "</style>\n",
       "\n",
       "<p class=pd>\n",
       "<b>Model</b>: GP regression<br>\n",
       "<b>Objective</b>: 31.905176985794697<br>\n",
       "<b>Number of Parameters</b>: 5<br>\n",
       "<b>Number of Optimization Parameters</b>: 5<br>\n",
       "<b>Updates</b>: True<br>\n",
       "</p>\n",
       "<style type=\"text/css\">\n",
       ".tg  {font-family:\"Courier New\", Courier, monospace !important;padding:2px 3px;word-break:normal;border-collapse:collapse;border-spacing:0;border-color:#DCDCDC;margin:0px auto;width:100%;}\n",
       ".tg td{font-family:\"Courier New\", Courier, monospace !important;font-weight:bold;color:#444;background-color:#F7FDFA;border-style:solid;border-width:1px;overflow:hidden;word-break:normal;border-color:#DCDCDC;}\n",
       ".tg th{font-family:\"Courier New\", Courier, monospace !important;font-weight:normal;color:#fff;background-color:#26ADE4;border-style:solid;border-width:1px;overflow:hidden;word-break:normal;border-color:#DCDCDC;}\n",
       ".tg .tg-left{font-family:\"Courier New\", Courier, monospace !important;font-weight:normal;text-align:left;}\n",
       ".tg .tg-center{font-family:\"Courier New\", Courier, monospace !important;font-weight:normal;text-align:center;}\n",
       ".tg .tg-right{font-family:\"Courier New\", Courier, monospace !important;font-weight:normal;text-align:right;}\n",
       "</style>\n",
       "<table class=\"tg\"><tr><th><b>  GP_regression.         </b></th><th><b>               value</b></th><th><b>constraints</b></th><th><b>priors</b></th></tr>\n",
       "<tr><td class=tg-left>  sum.rbf.variance       </td><td class=tg-right>  3.2537215510815782</td><td class=tg-center>    +ve    </td><td class=tg-center>      </td></tr>\n",
       "<tr><td class=tg-left>  sum.rbf.lengthscale    </td><td class=tg-right>  0.9342009891748048</td><td class=tg-center>    +ve    </td><td class=tg-center>      </td></tr>\n",
       "<tr><td class=tg-left>  sum.white.variance     </td><td class=tg-right>0.005138821140645416</td><td class=tg-center>    +ve    </td><td class=tg-center>      </td></tr>\n",
       "<tr><td class=tg-left>  sum.linear.variances   </td><td class=tg-right>8.92693073518568e-06</td><td class=tg-center>    +ve    </td><td class=tg-center>      </td></tr>\n",
       "<tr><td class=tg-left>  Gaussian_noise.variance</td><td class=tg-right>0.005138821140645416</td><td class=tg-center>    +ve    </td><td class=tg-center>      </td></tr>\n",
       "</table>"
      ],
      "text/plain": [
       "<GPy.models.gp_regression.GPRegression at 0x1bed608b588>"
      ]
     },
     "metadata": {},
     "output_type": "display_data"
    },
    {
     "data": {
      "image/png": "[encoded data removed]",
      "text/plain": [
       "<Figure size 432x288 with 1 Axes>"
      ]
     },
     "metadata": {
      "needs_background": "light"
     },
     "output_type": "display_data"
    },
    {
     "data": {
      "image/png": "[encoded data removed]",
      "text/plain": [
       "<Figure size 432x288 with 1 Axes>"
      ]
     },
     "metadata": {
      "needs_background": "light"
     },
     "output_type": "display_data"
    }
   ],
   "source": [
    "kernel = GPy.kern.RBF(input_dim=4, variance=1., lengthscale=1.) + GPy.kern.White(4) + GPy.kern.Linear(input_dim=4)\n",
    "global m\n",
    "m = GPy.models.GPRegression(x, y, kernel)\n",
    "display(m)\n",
    "# fig = m.plot(fixed_inputs=[(0, 1.1), (1, 0.57)])\n",
    "# GPy.plotting.show(fig, filename='basic_gp_regression_notebook')\n",
    "# plt.show()\n",
    "m.optimize(messages=False)\n",
    "display(m)\n",
    "# m.optimize_restarts(num_restarts=100)\n",
    "# GPy.plotting.show(fig, filename='basic_gp_regression_notebook_optimized')\n",
    "# fig = m.plot(plot_density=True, fixed_inputs=[(0, 1.1), (1, 0.57), (3, 75)])\n",
    "fig = m.plot(plot_density=True, fixed_inputs=[(0, 1.1), (1, 0.57)])\n",
    "plt.show()\n",
    "fig = m.plot(fixed_inputs=[(0, 1.1), (1, 0.57), (3, 75)])\n",
    "plt.show()\n",
    "# GPy.plotting.show(fig, filename='basic_gp_regression_density_notebook_optimized')\n",
    "\n",
    "# print(m.predict(Xnew=np.array([[0.917022004702574, 0.14084542908190212, 1.1002173121529553, 70.25598174316416]])))\n",
    "# print(dir(m))"
   ]
  },
  {
   "cell_type": "code",
   "execution_count": 15,
   "metadata": {},
   "outputs": [],
   "source": [
    "likelihood = gpytorch.likelihoods.GaussianLikelihood()\n",
    "model = ExactGPModel(xt, yt, likelihood)"
   ]
  },
  {
   "cell_type": "code",
   "execution_count": 16,
   "metadata": {},
   "outputs": [],
   "source": [
    "# # this is for running the notebook in our testing framework\n",
    "# import os\n",
    "# smoke_test = ('CI' in os.environ)\n",
    "# training_iter = 2 if smoke_test else 50\n",
    "\n",
    "\n",
    "# # Find optimal model hyperparameters\n",
    "# model.train()\n",
    "# likelihood.train()\n",
    "\n",
    "# # Use the adam optimizer\n",
    "# optimizer = torch.optim.Adam(model.parameters(), lr=0.1)  # Includes GaussianLikelihood parameters\n",
    "\n",
    "# # \"Loss\" for GPs - the marginal log likelihood\n",
    "# mll = gpytorch.mlls.ExactMarginalLogLikelihood(likelihood, model)\n",
    "\n",
    "# for i in range(training_iter):\n",
    "#     # Zero gradients from previous iteration\n",
    "#     optimizer.zero_grad()\n",
    "#     # Output from model\n",
    "#     output = model(xt)\n",
    "#     # Calc loss and backprop gradients\n",
    "#     loss = -mll(output, yt)\n",
    "#     loss.backward()\n",
    "#     print('Iter %d/%d - Loss: %.3f   lengthscale: %.3f   noise: %.3f' % (\n",
    "#         i + 1, training_iter, loss.item(),\n",
    "#         model.covar_module.base_kernel.lengthscale.item(),\n",
    "#         model.likelihood.noise.item()\n",
    "#     ))\n",
    "#     optimizer.step()\n",
    "\n"
   ]
  },
  {
   "cell_type": "code",
   "execution_count": 25,
   "metadata": {},
   "outputs": [],
   "source": [
    "def posterior(optimizer, x_obs, y_obs, grid):\n",
    "    optimizer._gp.fit(x_obs, y_obs)\n",
    "\n",
    "    mu, sigma = optimizer._gp.predict(grid, return_std=True)\n",
    "    return mu, sigma\n",
    "\n",
    "def plot_gp(optimizer, x, y):\n",
    "    fig = plt.figure(figsize=(16, 10))\n",
    "    steps = len(optimizer.space)\n",
    "    fig.suptitle(\n",
    "        'Gaussian Process and Utility Function After {} Steps'.format(steps),\n",
    "        fontdict={'size':30}\n",
    "    )\n",
    "    \n",
    "    gs = gridspec.GridSpec(2, 1, height_ratios=[3, 1]) \n",
    "    axis = plt.subplot(gs[0])\n",
    "    acq = plt.subplot(gs[1])\n",
    "    \n",
    "    x_obs = np.array([[res[\"params\"][\"ol\"]] for res in optimizer.res])\n",
    "    y_obs = np.array([res[\"target\"] for res in optimizer.res])\n",
    "    \n",
    "    mu, sigma = posterior(optimizer, x_obs, y_obs, x)\n",
    "    axis.plot(x, y, linewidth=3, label='Target')\n",
    "    axis.plot(x_obs.flatten(), y_obs, 'D', markersize=8, label=u'Observations', color='r')\n",
    "    axis.plot(x, mu, '--', color='k', label='Prediction')\n",
    "\n",
    "    axis.fill(np.concatenate([x, x[::-1]]), \n",
    "              np.concatenate([mu - 1.9600 * sigma, (mu + 1.9600 * sigma)[::-1]]),\n",
    "        alpha=.6, fc='c', ec='None', label='95% confidence interval')\n",
    "    \n",
    "    axis.set_xlim((-2, 10))\n",
    "    axis.set_ylim((None, None))\n",
    "    axis.set_ylabel('f(x)', fontdict={'size':20})\n",
    "    axis.set_xlabel('x', fontdict={'size':20})\n",
    "    \n",
    "    utility_function = UtilityFunction(kind=\"ucb\", kappa=5, xi=0)\n",
    "    utility = utility_function.utility(x, optimizer._gp, 0)\n",
    "    acq.plot(x, utility, label='Utility Function', color='purple')\n",
    "    acq.plot(x[np.argmax(utility)], np.max(utility), '*', markersize=15, \n",
    "             label=u'Next Best Guess', markerfacecolor='gold', markeredgecolor='k', markeredgewidth=1)\n",
    "    acq.set_xlim((-2, 10))\n",
    "    acq.set_ylim((0, np.max(utility) + 0.5))\n",
    "    acq.set_ylabel('Utility', fontdict={'size':20})\n",
    "    acq.set_xlabel('x', fontdict={'size':20})\n",
    "    \n",
    "    axis.legend(loc=2, bbox_to_anchor=(1.01, 1), borderaxespad=0.)\n",
    "    acq.legend(loc=2, bbox_to_anchor=(1.01, 1), borderaxespad=0.)"
   ]
  },
  {
   "cell_type": "code",
   "execution_count": 26,
   "metadata": {},
   "outputs": [
    {
     "ename": "ValueError",
     "evalue": "X has 4 features, but GaussianProcessRegressor is expecting 1 features as input.",
     "output_type": "error",
     "traceback": [
      "\u001b[1;31m---------------------------------------------------------------------------\u001b[0m",
      "\u001b[1;31mValueError\u001b[0m                                Traceback (most recent call last)",
      "\u001b[1;32m~\\AppData\\Local\\Temp/ipykernel_3796/2877324754.py\u001b[0m in \u001b[0;36m<module>\u001b[1;34m\u001b[0m\n\u001b[1;32m----> 1\u001b[1;33m \u001b[0mplot_gp\u001b[0m\u001b[1;33m(\u001b[0m\u001b[0moptimizer\u001b[0m\u001b[1;33m,\u001b[0m \u001b[0mx\u001b[0m\u001b[1;33m,\u001b[0m \u001b[0my\u001b[0m\u001b[1;33m)\u001b[0m\u001b[1;33m\u001b[0m\u001b[1;33m\u001b[0m\u001b[0m\n\u001b[0m",
      "\u001b[1;32m~\\AppData\\Local\\Temp/ipykernel_3796/3901333198.py\u001b[0m in \u001b[0;36mplot_gp\u001b[1;34m(optimizer, x, y)\u001b[0m\n\u001b[0;32m     20\u001b[0m     \u001b[0my_obs\u001b[0m \u001b[1;33m=\u001b[0m \u001b[0mnp\u001b[0m\u001b[1;33m.\u001b[0m\u001b[0marray\u001b[0m\u001b[1;33m(\u001b[0m\u001b[1;33m[\u001b[0m\u001b[0mres\u001b[0m\u001b[1;33m[\u001b[0m\u001b[1;34m\"target\"\u001b[0m\u001b[1;33m]\u001b[0m \u001b[1;32mfor\u001b[0m \u001b[0mres\u001b[0m \u001b[1;32min\u001b[0m \u001b[0moptimizer\u001b[0m\u001b[1;33m.\u001b[0m\u001b[0mres\u001b[0m\u001b[1;33m]\u001b[0m\u001b[1;33m)\u001b[0m\u001b[1;33m\u001b[0m\u001b[1;33m\u001b[0m\u001b[0m\n\u001b[0;32m     21\u001b[0m \u001b[1;33m\u001b[0m\u001b[0m\n\u001b[1;32m---> 22\u001b[1;33m     \u001b[0mmu\u001b[0m\u001b[1;33m,\u001b[0m \u001b[0msigma\u001b[0m \u001b[1;33m=\u001b[0m \u001b[0mposterior\u001b[0m\u001b[1;33m(\u001b[0m\u001b[0moptimizer\u001b[0m\u001b[1;33m,\u001b[0m \u001b[0mx_obs\u001b[0m\u001b[1;33m,\u001b[0m \u001b[0my_obs\u001b[0m\u001b[1;33m,\u001b[0m \u001b[0mx\u001b[0m\u001b[1;33m)\u001b[0m\u001b[1;33m\u001b[0m\u001b[1;33m\u001b[0m\u001b[0m\n\u001b[0m\u001b[0;32m     23\u001b[0m     \u001b[0maxis\u001b[0m\u001b[1;33m.\u001b[0m\u001b[0mplot\u001b[0m\u001b[1;33m(\u001b[0m\u001b[0mx\u001b[0m\u001b[1;33m,\u001b[0m \u001b[0my\u001b[0m\u001b[1;33m,\u001b[0m \u001b[0mlinewidth\u001b[0m\u001b[1;33m=\u001b[0m\u001b[1;36m3\u001b[0m\u001b[1;33m,\u001b[0m \u001b[0mlabel\u001b[0m\u001b[1;33m=\u001b[0m\u001b[1;34m'Target'\u001b[0m\u001b[1;33m)\u001b[0m\u001b[1;33m\u001b[0m\u001b[1;33m\u001b[0m\u001b[0m\n\u001b[0;32m     24\u001b[0m     \u001b[0maxis\u001b[0m\u001b[1;33m.\u001b[0m\u001b[0mplot\u001b[0m\u001b[1;33m(\u001b[0m\u001b[0mx_obs\u001b[0m\u001b[1;33m.\u001b[0m\u001b[0mflatten\u001b[0m\u001b[1;33m(\u001b[0m\u001b[1;33m)\u001b[0m\u001b[1;33m,\u001b[0m \u001b[0my_obs\u001b[0m\u001b[1;33m,\u001b[0m \u001b[1;34m'D'\u001b[0m\u001b[1;33m,\u001b[0m \u001b[0mmarkersize\u001b[0m\u001b[1;33m=\u001b[0m\u001b[1;36m8\u001b[0m\u001b[1;33m,\u001b[0m \u001b[0mlabel\u001b[0m\u001b[1;33m=\u001b[0m\u001b[1;34mu'Observations'\u001b[0m\u001b[1;33m,\u001b[0m \u001b[0mcolor\u001b[0m\u001b[1;33m=\u001b[0m\u001b[1;34m'r'\u001b[0m\u001b[1;33m)\u001b[0m\u001b[1;33m\u001b[0m\u001b[1;33m\u001b[0m\u001b[0m\n",
      "\u001b[1;32m~\\AppData\\Local\\Temp/ipykernel_3796/3901333198.py\u001b[0m in \u001b[0;36mposterior\u001b[1;34m(optimizer, x_obs, y_obs, grid)\u001b[0m\n\u001b[0;32m      2\u001b[0m     \u001b[0moptimizer\u001b[0m\u001b[1;33m.\u001b[0m\u001b[0m_gp\u001b[0m\u001b[1;33m.\u001b[0m\u001b[0mfit\u001b[0m\u001b[1;33m(\u001b[0m\u001b[0mx_obs\u001b[0m\u001b[1;33m,\u001b[0m \u001b[0my_obs\u001b[0m\u001b[1;33m)\u001b[0m\u001b[1;33m\u001b[0m\u001b[1;33m\u001b[0m\u001b[0m\n\u001b[0;32m      3\u001b[0m \u001b[1;33m\u001b[0m\u001b[0m\n\u001b[1;32m----> 4\u001b[1;33m     \u001b[0mmu\u001b[0m\u001b[1;33m,\u001b[0m \u001b[0msigma\u001b[0m \u001b[1;33m=\u001b[0m \u001b[0moptimizer\u001b[0m\u001b[1;33m.\u001b[0m\u001b[0m_gp\u001b[0m\u001b[1;33m.\u001b[0m\u001b[0mpredict\u001b[0m\u001b[1;33m(\u001b[0m\u001b[0mgrid\u001b[0m\u001b[1;33m,\u001b[0m \u001b[0mreturn_std\u001b[0m\u001b[1;33m=\u001b[0m\u001b[1;32mTrue\u001b[0m\u001b[1;33m)\u001b[0m\u001b[1;33m\u001b[0m\u001b[1;33m\u001b[0m\u001b[0m\n\u001b[0m\u001b[0;32m      5\u001b[0m     \u001b[1;32mreturn\u001b[0m \u001b[0mmu\u001b[0m\u001b[1;33m,\u001b[0m \u001b[0msigma\u001b[0m\u001b[1;33m\u001b[0m\u001b[1;33m\u001b[0m\u001b[0m\n\u001b[0;32m      6\u001b[0m \u001b[1;33m\u001b[0m\u001b[0m\n",
      "\u001b[1;32m~\\.conda\\envs\\Organigram\\lib\\site-packages\\sklearn\\gaussian_process\\_gpr.py\u001b[0m in \u001b[0;36mpredict\u001b[1;34m(self, X, return_std, return_cov)\u001b[0m\n\u001b[0;32m    369\u001b[0m             \u001b[0mdtype\u001b[0m\u001b[1;33m,\u001b[0m \u001b[0mensure_2d\u001b[0m \u001b[1;33m=\u001b[0m \u001b[1;32mNone\u001b[0m\u001b[1;33m,\u001b[0m \u001b[1;32mFalse\u001b[0m\u001b[1;33m\u001b[0m\u001b[1;33m\u001b[0m\u001b[0m\n\u001b[0;32m    370\u001b[0m \u001b[1;33m\u001b[0m\u001b[0m\n\u001b[1;32m--> 371\u001b[1;33m         \u001b[0mX\u001b[0m \u001b[1;33m=\u001b[0m \u001b[0mself\u001b[0m\u001b[1;33m.\u001b[0m\u001b[0m_validate_data\u001b[0m\u001b[1;33m(\u001b[0m\u001b[0mX\u001b[0m\u001b[1;33m,\u001b[0m \u001b[0mensure_2d\u001b[0m\u001b[1;33m=\u001b[0m\u001b[0mensure_2d\u001b[0m\u001b[1;33m,\u001b[0m \u001b[0mdtype\u001b[0m\u001b[1;33m=\u001b[0m\u001b[0mdtype\u001b[0m\u001b[1;33m,\u001b[0m \u001b[0mreset\u001b[0m\u001b[1;33m=\u001b[0m\u001b[1;32mFalse\u001b[0m\u001b[1;33m)\u001b[0m\u001b[1;33m\u001b[0m\u001b[1;33m\u001b[0m\u001b[0m\n\u001b[0m\u001b[0;32m    372\u001b[0m \u001b[1;33m\u001b[0m\u001b[0m\n\u001b[0;32m    373\u001b[0m         \u001b[1;32mif\u001b[0m \u001b[1;32mnot\u001b[0m \u001b[0mhasattr\u001b[0m\u001b[1;33m(\u001b[0m\u001b[0mself\u001b[0m\u001b[1;33m,\u001b[0m \u001b[1;34m\"X_train_\"\u001b[0m\u001b[1;33m)\u001b[0m\u001b[1;33m:\u001b[0m  \u001b[1;31m# Unfitted;predict based on GP prior\u001b[0m\u001b[1;33m\u001b[0m\u001b[1;33m\u001b[0m\u001b[0m\n",
      "\u001b[1;32m~\\.conda\\envs\\Organigram\\lib\\site-packages\\sklearn\\base.py\u001b[0m in \u001b[0;36m_validate_data\u001b[1;34m(self, X, y, reset, validate_separately, **check_params)\u001b[0m\n\u001b[0;32m    583\u001b[0m \u001b[1;33m\u001b[0m\u001b[0m\n\u001b[0;32m    584\u001b[0m         \u001b[1;32mif\u001b[0m \u001b[1;32mnot\u001b[0m \u001b[0mno_val_X\u001b[0m \u001b[1;32mand\u001b[0m \u001b[0mcheck_params\u001b[0m\u001b[1;33m.\u001b[0m\u001b[0mget\u001b[0m\u001b[1;33m(\u001b[0m\u001b[1;34m\"ensure_2d\"\u001b[0m\u001b[1;33m,\u001b[0m \u001b[1;32mTrue\u001b[0m\u001b[1;33m)\u001b[0m\u001b[1;33m:\u001b[0m\u001b[1;33m\u001b[0m\u001b[1;33m\u001b[0m\u001b[0m\n\u001b[1;32m--> 585\u001b[1;33m             \u001b[0mself\u001b[0m\u001b[1;33m.\u001b[0m\u001b[0m_check_n_features\u001b[0m\u001b[1;33m(\u001b[0m\u001b[0mX\u001b[0m\u001b[1;33m,\u001b[0m \u001b[0mreset\u001b[0m\u001b[1;33m=\u001b[0m\u001b[0mreset\u001b[0m\u001b[1;33m)\u001b[0m\u001b[1;33m\u001b[0m\u001b[1;33m\u001b[0m\u001b[0m\n\u001b[0m\u001b[0;32m    586\u001b[0m \u001b[1;33m\u001b[0m\u001b[0m\n\u001b[0;32m    587\u001b[0m         \u001b[1;32mreturn\u001b[0m \u001b[0mout\u001b[0m\u001b[1;33m\u001b[0m\u001b[1;33m\u001b[0m\u001b[0m\n",
      "\u001b[1;32m~\\.conda\\envs\\Organigram\\lib\\site-packages\\sklearn\\base.py\u001b[0m in \u001b[0;36m_check_n_features\u001b[1;34m(self, X, reset)\u001b[0m\n\u001b[0;32m    399\u001b[0m         \u001b[1;32mif\u001b[0m \u001b[0mn_features\u001b[0m \u001b[1;33m!=\u001b[0m \u001b[0mself\u001b[0m\u001b[1;33m.\u001b[0m\u001b[0mn_features_in_\u001b[0m\u001b[1;33m:\u001b[0m\u001b[1;33m\u001b[0m\u001b[1;33m\u001b[0m\u001b[0m\n\u001b[0;32m    400\u001b[0m             raise ValueError(\n\u001b[1;32m--> 401\u001b[1;33m                 \u001b[1;34mf\"X has {n_features} features, but {self.__class__.__name__} \"\u001b[0m\u001b[1;33m\u001b[0m\u001b[1;33m\u001b[0m\u001b[0m\n\u001b[0m\u001b[0;32m    402\u001b[0m                 \u001b[1;34mf\"is expecting {self.n_features_in_} features as input.\"\u001b[0m\u001b[1;33m\u001b[0m\u001b[1;33m\u001b[0m\u001b[0m\n\u001b[0;32m    403\u001b[0m             )\n",
      "\u001b[1;31mValueError\u001b[0m: X has 4 features, but GaussianProcessRegressor is expecting 1 features as input."
     ]
    },
    {
     "data": {
      "image/png": "[encoded data removed]",
      "text/plain": [
       "<Figure size 1152x720 with 2 Axes>"
      ]
     },
     "metadata": {
      "needs_background": "light"
     },
     "output_type": "display_data"
    }
   ],
   "source": [
    "plot_gp(optimizer, x, y)"
   ]
  },
  {
   "cell_type": "code",
   "execution_count": 27,
   "metadata": {},
   "outputs": [
    {
     "data": {
      "text/html": [
       "<div>\n",
       "<style scoped>\n",
       "    .dataframe tbody tr th:only-of-type {\n",
       "        vertical-align: middle;\n",
       "    }\n",
       "\n",
       "    .dataframe tbody tr th {\n",
       "        vertical-align: top;\n",
       "    }\n",
       "\n",
       "    .dataframe thead th {\n",
       "        text-align: right;\n",
       "    }\n",
       "</style>\n",
       "<table border=\"1\" class=\"dataframe\">\n",
       "  <thead>\n",
       "    <tr style=\"text-align: right;\">\n",
       "      <th></th>\n",
       "      <th>ol</th>\n",
       "      <th>al</th>\n",
       "      <th>bf</th>\n",
       "      <th>temp</th>\n",
       "    </tr>\n",
       "  </thead>\n",
       "  <tbody>\n",
       "    <tr>\n",
       "      <th>0</th>\n",
       "      <td>0.0</td>\n",
       "      <td>0.000</td>\n",
       "      <td>0.0</td>\n",
       "      <td>0.0</td>\n",
       "    </tr>\n",
       "    <tr>\n",
       "      <th>1</th>\n",
       "      <td>0.0</td>\n",
       "      <td>0.000</td>\n",
       "      <td>0.0</td>\n",
       "      <td>0.0</td>\n",
       "    </tr>\n",
       "    <tr>\n",
       "      <th>2</th>\n",
       "      <td>0.0</td>\n",
       "      <td>0.000</td>\n",
       "      <td>0.0</td>\n",
       "      <td>0.0</td>\n",
       "    </tr>\n",
       "    <tr>\n",
       "      <th>3</th>\n",
       "      <td>1.0</td>\n",
       "      <td>0.000</td>\n",
       "      <td>0.0</td>\n",
       "      <td>0.0</td>\n",
       "    </tr>\n",
       "    <tr>\n",
       "      <th>4</th>\n",
       "      <td>0.5</td>\n",
       "      <td>0.866</td>\n",
       "      <td>0.0</td>\n",
       "      <td>0.0</td>\n",
       "    </tr>\n",
       "  </tbody>\n",
       "</table>\n",
       "</div>"
      ],
      "text/plain": [
       "    ol     al   bf  temp\n",
       "0  0.0  0.000  0.0   0.0\n",
       "1  0.0  0.000  0.0   0.0\n",
       "2  0.0  0.000  0.0   0.0\n",
       "3  1.0  0.000  0.0   0.0\n",
       "4  0.5  0.866  0.0   0.0"
      ]
     },
     "execution_count": 27,
     "metadata": {},
     "output_type": "execute_result"
    }
   ],
   "source": [
    "data2.head()\n",
    "data2[\"util\"]"
   ]
  },
  {
   "cell_type": "code",
   "execution_count": null,
   "metadata": {},
   "outputs": [],
   "source": [
    "\n",
    "for i in data2.ol.unique():\n",
    "    sb.scatterplot(data=data2.loc[data2.ol==i], x = \"al\", y=\"temp\")"
   ]
  },
  {
   "cell_type": "code",
   "execution_count": null,
   "metadata": {},
   "outputs": [],
   "source": []
  }
 ],
 "metadata": {
  "interpreter": {
   "hash": "d5c84d657f45050687bf03b7911071edf47d676b3fcd1f563ab8d64826ff7a10"
  },
  "kernelspec": {
   "display_name": "Python 3.7.12 ('Organigram')",
   "language": "python",
   "name": "python3"
  },
  "language_info": {
   "codemirror_mode": {
    "name": "ipython",
    "version": 3
   },
   "file_extension": ".py",
   "mimetype": "text/x-python",
   "name": "python",
   "nbconvert_exporter": "python",
   "pygments_lexer": "ipython3",
   "version": "3.7.12"
  },
  "orig_nbformat": 4
 },
 "nbformat": 4,
 "nbformat_minor": 2
}
